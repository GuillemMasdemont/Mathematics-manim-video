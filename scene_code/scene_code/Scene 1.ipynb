{
 "cells": [
  {
   "cell_type": "markdown",
   "metadata": {},
   "source": [
    "# ESCENA 1"
   ]
  },
  {
   "cell_type": "code",
   "execution_count": 1,
   "metadata": {},
   "outputs": [
    {
     "data": {
      "text/html": [
       "<pre style=\"white-space:pre;overflow-x:auto;line-height:normal;font-family:Menlo,'DejaVu Sans Mono',consolas,'Courier New',monospace\">Manim Community <span style=\"color: #008000; text-decoration-color: #008000\">v0.18.0</span>\n",
       "\n",
       "</pre>\n"
      ],
      "text/plain": [
       "Manim Community \u001b[32mv0.\u001b[0m\u001b[32m18.0\u001b[0m\n",
       "\n"
      ]
     },
     "metadata": {},
     "output_type": "display_data"
    }
   ],
   "source": [
    "from manim import * "
   ]
  },
  {
   "cell_type": "code",
   "execution_count": null,
   "metadata": {},
   "outputs": [],
   "source": [
    "WorldMap = ImageMobject(\"worldmap4.png\").scale(0.6)\n",
    "Background = ImageMobject(\"Background.png\").scale(0.3)\n",
    "Olympics = ImageMobject(\"olympics4.png\").scale(0.6)"
   ]
  },
  {
   "cell_type": "code",
   "execution_count": null,
   "metadata": {},
   "outputs": [],
   "source": [
    "plane = (NumberPlane(x_range = [-6,6,1], y_range = [-6,6, 1]) .add_coordinates())\n",
    "                \n",
    "dots = {}\n",
    "for i in range(0,30):\n",
    "    dots['dot'+str(i)] = Dot(point=LEFT, radius=0.05, color = WHITE)\n",
    "    \n",
    "    \n",
    "dots['dot1'].move_to([-0-9,0,0])\n",
    "dots['dot2'].move_to([-0.2,1.4,0])\n",
    "dots['dot3'].move_to([0.5,-1,0])\n",
    "dots['dot4'].move_to([-4.2,0,0])\n",
    "dots['dot5'].move_to([-3,1.2,0])\n",
    "dots['dot6'].move_to([3,1.2,0])\n",
    "dots['dot7'].move_to([5,-2.6,0])\n",
    "dots['dot8'].move_to([3,1.2,0])\n",
    "dots['dot9'].move_to([2.5,-0.2,0])\n",
    "dots['dot10'].move_to([3.8,0.2,0])\n",
    "dots['dot11'].move_to([-3,-2.5,0])\n",
    "dots['dot12'].move_to([0.5,1.5,0])\n",
    "dots['dot13'].move_to([-3,-0.5,0])\n",
    "dots['dot14'].move_to([-2.2,-2,0])\n",
    "dots['dot15'].move_to([1.5,0,0])\n",
    "dots['dot16'].move_to([4.6,0.7,0])\n",
    "dots['dot17'].move_to([-0.8,0,0])\n",
    "dots['dot18'].move_to([0.1,1.9,0])\n",
    "dots['dot19'].move_to([-0.5,1.6,0])\n",
    "dots['dot20'].move_to([-3.2,-1.4,0])\n",
    "dots['dot21'].move_to([0,0.3,0])\n",
    "dots['dot22'].move_to([1.7,0.9,0])\n",
    "dots['dot23'].move_to([-2.2,2.2,0])"
   ]
  },
  {
   "cell_type": "code",
   "execution_count": null,
   "metadata": {},
   "outputs": [],
   "source": [
    "class PrimeraEscena(Scene): \n",
    "    def construct(self): \n",
    "        \n",
    "        #self.play(DrawBorderThenFill(plane))\n",
    "        \n",
    "        circle = Circle(radius=2.5, color = WHITE)\n",
    "        \n",
    "        animation1 = [FadeIn(dots['dot'+str(i)]) for i in range(1,17)]\n",
    "        \n",
    "        self.play(FadeIn(WorldMap), run_time = 1.5)\n",
    "        self.play(AnimationGroup(*animacions, lag_ratio=0.5), run_time = 3)\n",
    "        self.play(FadeIn(Olympics, circle), run_time = 1)\n",
    "        \n",
    "        animation2 = [FadeIn(dots['dot'+str(i)]) for i in range(17,23)]\n",
    "        \n",
    "        self.play(AnimationGroup(*animacions2, lag_ratio=0.2), run_time = 2)        \n",
    "        self.play(FadeIn(Dot(point=[3.8,0.2,0], radius=0.1, color = RED_E)))\n",
    "        self.wait(3)"
   ]
  },
  {
   "cell_type": "code",
   "execution_count": null,
   "metadata": {},
   "outputs": [],
   "source": [
    "%manim -pql PrimeraEscena"
   ]
  }
 ],
 "metadata": {
  "kernelspec": {
   "display_name": "Python 3 (ipykernel)",
   "language": "python",
   "name": "python3"
  },
  "language_info": {
   "codemirror_mode": {
    "name": "ipython",
    "version": 3
   },
   "file_extension": ".py",
   "mimetype": "text/x-python",
   "name": "python",
   "nbconvert_exporter": "python",
   "pygments_lexer": "ipython3",
   "version": "3.11.8"
  }
 },
 "nbformat": 4,
 "nbformat_minor": 4
}
