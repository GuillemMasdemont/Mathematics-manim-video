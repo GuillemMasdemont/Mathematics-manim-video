{
 "cells": [
  {
   "cell_type": "code",
   "execution_count": null,
   "id": "1893d83d-2da2-48d7-8000-28c3a61bbb5b",
   "metadata": {},
   "outputs": [],
   "source": [
    "from manim import * "
   ]
  },
  {
   "cell_type": "markdown",
   "id": "d835c674-505c-40aa-98a2-f07bbec2b411",
   "metadata": {},
   "source": [
    "## Results table"
   ]
  },
  {
   "cell_type": "code",
   "execution_count": null,
   "id": "7f388895-c3fd-4cf6-bf24-843382622c9a",
   "metadata": {},
   "outputs": [],
   "source": [
    "table = Table(\n",
    "    [[\"-\", \"7-5\", \"11-8\",\"10-2\", \"12-8\", \"8-4\",\"7-3\", \"8-7\", \"8-7\",\"8-4\"],\n",
    "    [\"5-7\", \"-\", \"2-6\",\"8-3\", \"9-5\", \"6-5\",\"9-8\", \"7-8\", \"6-4\",\"8-4\"],\n",
    "    [\"8-11\", \"6-2\", \"-\",\"6-7\", \"6-2\", \"9-6\",\"10-4\", \"6-5\", \"6-7\",\"11-6\"],\n",
    "    [\"2-10\", \"3-8\", \"7-6\",\"-\", \"4-7\", \"8-6\",\"8-2\", \"3-11\", \"5-6\",\"10-8\"],\n",
    "    [\"8-12\", \"5-9\", \"2-6\",\"7-4\", \"-\", \"7-6\",\"7-6\", \"6-1\", \"6-2\",\"7-8\"],\n",
    "    [\"4-8\", \"5-6\", \"6-9\",\"6-8\", \"6-7\", \"-\",\"6-5\", \"7-6\", \"6-8\",\"5-7\"],\n",
    "    [\"3-7\", \"8-9\", \"4-10\",\"2-8\", \"6-7\", \"5-6\",\"-\", \"9-6\", \"10-8\",\"5-6\"],\n",
    "    [\"7-8\", \"8-7\", \"5-6\",\"11-3\", \"1-6\", \"6-7\",\"6-9\", \"-\", \"5-7\",\"6-5\"],\n",
    "    [\"7-8\", \"4-6\", \"6-7\",\"6-5\", \"2-6\", \"8-6\",\"8-10\", \"7-5\", \"-\",\"7-2\"],\n",
    "    [\"4-8\", \"4-8\", \"6-11\",\"8-10\", \"8-7\", \"7-5\",\"6-5\", \"5-6\", \"2-7\",\"-\"]],    \n",
    "    row_labels=[Text(\"italia\"), Text(\"italia\"),Text(\"italia\"),Text(\"italia\"), Text(\"italia\"),Text(\"italia\"),Text(\"italia\"), Text(\"italia\"),Text(\"italia\"),Text(\"italia\")],\n",
    "    col_labels=[Text(\"Italia\"), Text(\"italia\"),Text(\"italia\"),Text(\"italia\"), Text(\"italia\"),Text(\"italia\"),Text(\"italia\"), Text(\"italia\"),Text(\"italia\"),Text(\"italia\")],\n",
    "    include_outer_lines=True).scale(0.3).to_edge(DOWN, buff = 1.73)\n",
    "\n",
    "Banderes10H = ImageMobject(\"10banderes.png\").scale(0.485).move_to(table.get_center()+[0.451,2.1,0])\n",
    "Banderes10V = ImageMobject(\"10banderesVertical.png\").scale(0.485).move_to(table.get_center()+[-4.2,-0.2,0])\n",
    "\n",
    "taula = [[0, 7-5, 11-8,10-2, 12-8, 8-4,7-3, 8-7, 8-7,8-4],\n",
    "    [5-7, 0, 2-6,8-3, 9-5, 6-5,9-8, 7-8, 6-4,8-4],\n",
    "    [8-11, 6-2, 0,6-7, 6-2, 9-6,10-4, 6-5, 6-7,11-6],\n",
    "    [2-10, 3-8, 7-6,0, 4-7, 8-6,8-2, 3-11, 5-6,10-8],\n",
    "    [8-12, 5-9,2-6,7-4, 0, 7-6,7-6, 6-1, 6-2,7-8],\n",
    "    [4-8, 5-6, 6-9,6-8, 6-7, 0,6-5, 7-6, 6-8,5-7],\n",
    "    [3-7, 8-9, 4-10,2-8, 6-7, 5-6,0, 9-6, 10-8,5-6],\n",
    "    [7-8, 8-7,5-6,11-3, 1-6, 6-7,6-9, 0, 5-7,6-5],\n",
    "    [7-8, 4-6, 6-7,6-5, 2-6, 8-6,8-10, 7-5, 0,7-2],\n",
    "    [4-8, 4-8, 6-11,8-10, 8-7, 7-5,6-5, 5-6, 2-7,0]]\n",
    "for i in range(len(taula)): \n",
    "    for j in range(len(taula)): \n",
    "        if taula[i][j] > 0:\n",
    "            table.add_highlighted_cell((i+2,j+2), color=GREEN)\n",
    "        \n",
    "        if taula[i][j] == 0:\n",
    "            pass \n",
    "        \n",
    "        else: \n",
    "            table.add_highlighted_cell((i+2,j+2), color=RED_B)\n",
    "\n",
    "\n",
    "Torneig = Group(table, Banderes10H, Banderes10V)\n",
    "TorneigImatges = Group(Banderes10H, Banderes10V)\n",
    "TorneigVgroup = VGroup(table)"
   ]
  },
  {
   "cell_type": "markdown",
   "id": "62e691a8-e088-437f-b385-bb5388465745",
   "metadata": {},
   "source": [
    "## Scene 2"
   ]
  },
  {
   "cell_type": "code",
   "execution_count": null,
   "id": "d62defe5-b1db-4311-af96-00d80d853da6",
   "metadata": {},
   "outputs": [],
   "source": [
    "class SegonaEscena(Scene):\n",
    "    def construct(self):\n",
    "        \n",
    "        titol = Tex(\"Dobles Mixtes, Curling, Beijing 2022\").to_edge(UP, buff = 0.75)\n",
    "\n",
    "        \n",
    "        self.play(FadeIn(Torneig.move_to([0,0,0]), titol), run_time = 1)\n",
    "        self.wait(1)\n",
    "        \n",
    "        \n",
    "        Animations = [Torneig.animate.scale(0.5), Torneig.animate.to_edge(LEFT, buff = 1)]\n",
    "        \n",
    "        Resultats = Table(\n",
    "            [[\"9-0\"],\n",
    "            [\"6-3\"],[\"6-3\"],[\"4-5\"],[\"5-4\"],[\"2-7\"],[\"2-7\"],[\"3-6\"],[\"5-4\"],[\"3-6\"]],\n",
    "            col_labels=[Text(\"RESULTAT\")],\n",
    "            include_outer_lines=True).scale(0.32).move_to([5,0,0])\n",
    "        \n",
    "        self.play(*Animations, run_time = 1)\n",
    "        self.play(DrawBorderThenFill(Resultats))\n",
    "        \n",
    "        self.wait(3)\n",
    "        \n",
    "        Resultats.add_highlighted_cell((3,1), color=BLUE)\n",
    "        Resultats.add_highlighted_cell((4,1), color=BLUE)\n",
    "\n",
    "    \n",
    "        self.wait(8)"
   ]
  },
  {
   "cell_type": "code",
   "execution_count": null,
   "id": "9ed180d9-d0df-48de-8fed-2bafbd2ee290",
   "metadata": {},
   "outputs": [],
   "source": [
    "%manim -pql SegonaEscena"
   ]
  }
 ],
 "metadata": {
  "kernelspec": {
   "display_name": "Python 3 (ipykernel)",
   "language": "python",
   "name": "python3"
  },
  "language_info": {
   "codemirror_mode": {
    "name": "ipython",
    "version": 3
   },
   "file_extension": ".py",
   "mimetype": "text/x-python",
   "name": "python",
   "nbconvert_exporter": "python",
   "pygments_lexer": "ipython3",
   "version": "3.11.8"
  }
 },
 "nbformat": 4,
 "nbformat_minor": 5
}
